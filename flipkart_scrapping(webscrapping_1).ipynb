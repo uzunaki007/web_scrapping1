{
 "cells": [
  {
   "cell_type": "code",
   "execution_count": 1,
   "id": "af506877-8e0e-49dc-83ab-04b53bcd8669",
   "metadata": {},
   "outputs": [],
   "source": [
    "import requests\n",
    "from bs4 import BeautifulSoup as bs\n",
    "from urllib.request import urlopen\n",
    "import logging"
   ]
  },
  {
   "cell_type": "code",
   "execution_count": 2,
   "id": "7023a977-e8f5-4f93-a083-95a37564ee27",
   "metadata": {},
   "outputs": [],
   "source": [
    "flipkt_link=\"https://www.flipkart.com/search?q=\"+\"iphone%2012\""
   ]
  },
  {
   "cell_type": "code",
   "execution_count": 3,
   "id": "24aaa2aa-519d-4566-ad9a-01aac2913874",
   "metadata": {},
   "outputs": [
    {
     "data": {
      "text/plain": [
       "'https://www.flipkart.com/search?q=iphone%2012'"
      ]
     },
     "execution_count": 3,
     "metadata": {},
     "output_type": "execute_result"
    }
   ],
   "source": [
    "flipkt_link"
   ]
  },
  {
   "cell_type": "code",
   "execution_count": 11,
   "id": "3b04687d-34f9-4b8a-b7f3-a1c30d4052cb",
   "metadata": {},
   "outputs": [],
   "source": [
    "urlclient=urlopen(flipkt_link)"
   ]
  },
  {
   "cell_type": "code",
   "execution_count": 12,
   "id": "901580c9-95e3-4d6f-a051-2ca57a54b29c",
   "metadata": {},
   "outputs": [],
   "source": [
    "flipkt_page=urlclient.read()"
   ]
  },
  {
   "cell_type": "code",
   "execution_count": 14,
   "id": "3a57349f-7015-42b9-a5ef-b05e050532a4",
   "metadata": {},
   "outputs": [],
   "source": [
    "flipkt_html = bs(flipkt_page , 'html.parser')"
   ]
  },
  {
   "cell_type": "code",
   "execution_count": 15,
   "id": "5bd84ade-070f-4cf3-bf7e-08a9968fc31e",
   "metadata": {},
   "outputs": [
    {
     "data": {
      "text/plain": [
       "'https://www.flipkart.com/apple-iphone-12-white-64-gb/p/itm8b88bdc03cd79?pid=MOBFWBYZTK33MBG9&lid=LSTMOBFWBYZTK33MBG9ZFJ0HL&marketplace=FLIPKART&q=iphone+12&store=tyy%2F4io&srno=s_1_1&otracker=search&fm=organic&iid=a9814579-7e3f-44a1-adaa-e30f3dabed29.MOBFWBYZTK33MBG9.SEARCH&ppt=None&ppn=None&ssid=5hoy96j3k00000001685622760449&qH=7b7504afcaf2e1ea'"
      ]
     },
     "execution_count": 15,
     "metadata": {},
     "output_type": "execute_result"
    }
   ],
   "source": [
    "\"https://www.flipkart.com\"+\"/apple-iphone-12-white-64-gb/p/itm8b88bdc03cd79?pid=MOBFWBYZTK33MBG9&lid=LSTMOBFWBYZTK33MBG9ZFJ0HL&marketplace=FLIPKART&q=iphone+12&store=tyy%2F4io&srno=s_1_1&otracker=search&fm=organic&iid=a9814579-7e3f-44a1-adaa-e30f3dabed29.MOBFWBYZTK33MBG9.SEARCH&ppt=None&ppn=None&ssid=5hoy96j3k00000001685622760449&qH=7b7504afcaf2e1ea\""
   ]
  },
  {
   "cell_type": "code",
   "execution_count": 17,
   "id": "6553f559-677a-4d4c-8699-990f81d526c2",
   "metadata": {},
   "outputs": [],
   "source": [
    "bigbox=flipkt_html.find_all(\"div\" ,{\"class\":\"_1AtVbE col-12-12\"})"
   ]
  },
  {
   "cell_type": "code",
   "execution_count": 18,
   "id": "4f755295-2048-4181-8fac-ab3793442262",
   "metadata": {},
   "outputs": [
    {
     "data": {
      "text/plain": [
       "30"
      ]
     },
     "execution_count": 18,
     "metadata": {},
     "output_type": "execute_result"
    }
   ],
   "source": [
    "len(bigbox)"
   ]
  },
  {
   "cell_type": "code",
   "execution_count": 19,
   "id": "8d6e124c-2169-4645-8725-67e4da220953",
   "metadata": {},
   "outputs": [],
   "source": [
    "del bigbox[0:3]"
   ]
  },
  {
   "cell_type": "code",
   "execution_count": 23,
   "id": "91f8a654-534e-449e-b595-5e9c0b7eb597",
   "metadata": {},
   "outputs": [],
   "source": [
    "productlink=\"https://www.flipkart.com\"+bigbox[0].div.div.div.a['href']"
   ]
  },
  {
   "cell_type": "code",
   "execution_count": 24,
   "id": "28c0dc89-2b0b-4045-8199-58f1c96bc971",
   "metadata": {},
   "outputs": [
    {
     "name": "stdout",
     "output_type": "stream",
     "text": [
      "https://www.flipkart.com/apple-iphone-12-purple-64-gb/p/itmfca1e77621c65?pid=MOBG2EPZJUZEYZGK&lid=LSTMOBG2EPZJUZEYZGK3JC9XU&marketplace=FLIPKART&q=iphone+12&store=tyy%2F4io&srno=s_1_2&otracker=search&fm=organic&iid=505f7afe-05cc-423e-b48c-b3a38b59b2ca.MOBG2EPZJUZEYZGK.SEARCH&ppt=None&ppn=None&ssid=grhll52sls0000001685622535841&qH=7b7504afcaf2e1ea\n",
      "https://www.flipkart.com/apple-iphone-12-red-64-gb/p/itm3481e4053d500?pid=MOBFWBYZDP6QCQ8F&lid=LSTMOBFWBYZDP6QCQ8FPGCIEN&marketplace=FLIPKART&q=iphone+12&store=tyy%2F4io&srno=s_1_3&otracker=search&fm=organic&iid=505f7afe-05cc-423e-b48c-b3a38b59b2ca.MOBFWBYZDP6QCQ8F.SEARCH&ppt=None&ppn=None&ssid=grhll52sls0000001685622535841&qH=7b7504afcaf2e1ea\n",
      "https://www.flipkart.com/apple-iphone-12-green-64-gb/p/itmc8a19a9686173?pid=MOBFWBYZKK3EJPFW&lid=LSTMOBFWBYZKK3EJPFWVBZVKG&marketplace=FLIPKART&q=iphone+12&store=tyy%2F4io&srno=s_1_4&otracker=search&fm=organic&iid=505f7afe-05cc-423e-b48c-b3a38b59b2ca.MOBFWBYZKK3EJPFW.SEARCH&ppt=None&ppn=None&ssid=grhll52sls0000001685622535841&qH=7b7504afcaf2e1ea\n",
      "https://www.flipkart.com/apple-iphone-12-blue-64-gb/p/itm5778ad0d0d255?pid=MOBFWBYZ8DNJNY7N&lid=LSTMOBFWBYZ8DNJNY7NK9PX3E&marketplace=FLIPKART&q=iphone+12&store=tyy%2F4io&srno=s_1_5&otracker=search&fm=organic&iid=505f7afe-05cc-423e-b48c-b3a38b59b2ca.MOBFWBYZ8DNJNY7N.SEARCH&ppt=None&ppn=None&ssid=grhll52sls0000001685622535841&qH=7b7504afcaf2e1ea\n",
      "https://www.flipkart.com/apple-iphone-12-black-256-gb/p/itm68421fa1c1121?pid=MOBFWBYZ7CR9FRHZ&lid=LSTMOBFWBYZ7CR9FRHZIALAIL&marketplace=FLIPKART&q=iphone+12&store=tyy%2F4io&srno=s_1_6&otracker=search&fm=organic&iid=505f7afe-05cc-423e-b48c-b3a38b59b2ca.MOBFWBYZ7CR9FRHZ.SEARCH&ppt=None&ppn=None&ssid=grhll52sls0000001685622535841&qH=7b7504afcaf2e1ea\n",
      "https://www.flipkart.com/apple-iphone-12-blue-256-gb/p/itm3be487cd1dea5?pid=MOBFWBYZKYYZUANT&lid=LSTMOBFWBYZKYYZUANT0DVCKS&marketplace=FLIPKART&q=iphone+12&store=tyy%2F4io&srno=s_1_7&otracker=search&fm=organic&iid=505f7afe-05cc-423e-b48c-b3a38b59b2ca.MOBFWBYZKYYZUANT.SEARCH&ppt=None&ppn=None&ssid=grhll52sls0000001685622535841&qH=7b7504afcaf2e1ea\n",
      "https://www.flipkart.com/apple-iphone-12-black-64-gb/p/itma2559422bf7c7?pid=MOBFWBYZU5FWK2VP&lid=LSTMOBFWBYZU5FWK2VPFMEI56&marketplace=FLIPKART&q=iphone+12&store=tyy%2F4io&srno=s_1_8&otracker=search&fm=organic&iid=505f7afe-05cc-423e-b48c-b3a38b59b2ca.MOBFWBYZU5FWK2VP.SEARCH&ppt=None&ppn=None&ssid=grhll52sls0000001685622535841&qH=7b7504afcaf2e1ea\n",
      "https://www.flipkart.com/apple-iphone-12-red-128-gb/p/itma7bd86885ed98?pid=MOBFWBYZUHPFWQRD&lid=LSTMOBFWBYZUHPFWQRD6PEPH0&marketplace=FLIPKART&q=iphone+12&store=tyy%2F4io&spotlightTagId=TrendingId_tyy%2F4io&srno=s_1_9&otracker=search&fm=organic&iid=505f7afe-05cc-423e-b48c-b3a38b59b2ca.MOBFWBYZUHPFWQRD.SEARCH&ppt=None&ppn=None&ssid=grhll52sls0000001685622535841&qH=7b7504afcaf2e1ea\n",
      "https://www.flipkart.com/apple-iphone-12-purple-128-gb/p/itmebc78f1cb26d3?pid=MOBG2EPZK5ZD9KYS&lid=LSTMOBG2EPZK5ZD9KYSOG4BIP&marketplace=FLIPKART&q=iphone+12&store=tyy%2F4io&srno=s_1_10&otracker=search&fm=organic&iid=505f7afe-05cc-423e-b48c-b3a38b59b2ca.MOBG2EPZK5ZD9KYS.SEARCH&ppt=None&ppn=None&ssid=grhll52sls0000001685622535841&qH=7b7504afcaf2e1ea\n",
      "https://www.flipkart.com/apple-iphone-12-green-128-gb/p/itm4e0a120f7d9c4?pid=MOBFWBYZQXUEHF48&lid=LSTMOBFWBYZQXUEHF48LUVQNT&marketplace=FLIPKART&q=iphone+12&store=tyy%2F4io&srno=s_1_11&otracker=search&fm=organic&iid=505f7afe-05cc-423e-b48c-b3a38b59b2ca.MOBFWBYZQXUEHF48.SEARCH&ppt=None&ppn=None&ssid=grhll52sls0000001685622535841&qH=7b7504afcaf2e1ea\n",
      "https://www.flipkart.com/apple-iphone-12-green-256-gb/p/itm6d126e7980774?pid=MOBFWBYZZPFJYYEY&lid=LSTMOBFWBYZZPFJYYEYEJFIAS&marketplace=FLIPKART&q=iphone+12&store=tyy%2F4io&srno=s_1_12&otracker=search&fm=organic&iid=505f7afe-05cc-423e-b48c-b3a38b59b2ca.MOBFWBYZZPFJYYEY.SEARCH&ppt=None&ppn=None&ssid=grhll52sls0000001685622535841&qH=7b7504afcaf2e1ea\n",
      "https://www.flipkart.com/apple-iphone-12-red-256-gb/p/itm16f42310fe29a?pid=MOBFWBYZEBH6SAFP&lid=LSTMOBFWBYZEBH6SAFPXBXAOS&marketplace=FLIPKART&q=iphone+12&store=tyy%2F4io&srno=s_1_13&otracker=search&fm=organic&iid=505f7afe-05cc-423e-b48c-b3a38b59b2ca.MOBFWBYZEBH6SAFP.SEARCH&ppt=None&ppn=None&ssid=grhll52sls0000001685622535841&qH=7b7504afcaf2e1ea\n",
      "https://www.flipkart.com/apple-iphone-12-black-128-gb/p/itmf1f0a58f1ecd7?pid=MOBFWBYZK3HACR72&lid=LSTMOBFWBYZK3HACR72T8MSUQ&marketplace=FLIPKART&q=iphone+12&store=tyy%2F4io&srno=s_1_14&otracker=search&fm=organic&iid=505f7afe-05cc-423e-b48c-b3a38b59b2ca.MOBFWBYZK3HACR72.SEARCH&ppt=None&ppn=None&ssid=grhll52sls0000001685622535841&qH=7b7504afcaf2e1ea\n",
      "https://www.flipkart.com/apple-iphone-12-purple-256-gb/p/itmfce36e1443299?pid=MOBG2EPZ6TFVH4YN&lid=LSTMOBG2EPZ6TFVH4YNKR5DFD&marketplace=FLIPKART&q=iphone+12&store=tyy%2F4io&srno=s_1_15&otracker=search&fm=organic&iid=505f7afe-05cc-423e-b48c-b3a38b59b2ca.MOBG2EPZ6TFVH4YN.SEARCH&ppt=None&ppn=None&ssid=grhll52sls0000001685622535841&qH=7b7504afcaf2e1ea\n",
      "https://www.flipkart.com/apple-iphone-12-white-128-gb/p/itm95393f4c6cc59?pid=MOBFWBYZBTZFGJF9&lid=LSTMOBFWBYZBTZFGJF9NKR72P&marketplace=FLIPKART&q=iphone+12&store=tyy%2F4io&srno=s_1_16&otracker=search&fm=organic&iid=505f7afe-05cc-423e-b48c-b3a38b59b2ca.MOBFWBYZBTZFGJF9.SEARCH&ppt=None&ppn=None&ssid=grhll52sls0000001685622535841&qH=7b7504afcaf2e1ea\n",
      "https://www.flipkart.com/apple-iphone-12-white-256-gb/p/itmcfbcb621e6326?pid=MOBFWBYZMNGZVMJE&lid=LSTMOBFWBYZMNGZVMJECEIO9J&marketplace=FLIPKART&q=iphone+12&store=tyy%2F4io&srno=s_1_17&otracker=search&fm=organic&iid=505f7afe-05cc-423e-b48c-b3a38b59b2ca.MOBFWBYZMNGZVMJE.SEARCH&ppt=None&ppn=None&ssid=grhll52sls0000001685622535841&qH=7b7504afcaf2e1ea\n",
      "https://www.flipkart.com/apple-iphone-12-blue-128-gb/p/itm02853ae92e90a?pid=MOBFWBYZKPTZF9VG&lid=LSTMOBFWBYZKPTZF9VGIFSM7T&marketplace=FLIPKART&q=iphone+12&store=tyy%2F4io&srno=s_1_18&otracker=search&fm=organic&iid=505f7afe-05cc-423e-b48c-b3a38b59b2ca.MOBFWBYZKPTZF9VG.SEARCH&ppt=None&ppn=None&ssid=grhll52sls0000001685622535841&qH=7b7504afcaf2e1ea\n",
      "https://www.flipkart.com/apple-iphone-14-midnight-128-gb/p/itm9e6293c322a84?pid=MOBGHWFHECFVMDCX&lid=LSTMOBGHWFHECFVMDCXBOYSND&marketplace=FLIPKART&q=iphone+12&store=tyy%2F4io&srno=s_1_19&otracker=search&fm=organic&iid=505f7afe-05cc-423e-b48c-b3a38b59b2ca.MOBGHWFHECFVMDCX.SEARCH&ppt=None&ppn=None&ssid=grhll52sls0000001685622535841&qH=7b7504afcaf2e1ea\n",
      "https://www.flipkart.com/apple-iphone-13-midnight-128-gb/p/itmca361aab1c5b0?pid=MOBG6VF5Q82T3XRS&lid=LSTMOBG6VF5Q82T3XRSOXJLM9&marketplace=FLIPKART&q=iphone+12&store=tyy%2F4io&spotlightTagId=BestsellerId_tyy%2F4io&srno=s_1_20&otracker=search&fm=organic&iid=505f7afe-05cc-423e-b48c-b3a38b59b2ca.MOBG6VF5Q82T3XRS.SEARCH&ppt=None&ppn=None&ssid=grhll52sls0000001685622535841&qH=7b7504afcaf2e1ea\n",
      "https://www.flipkart.com/apple-iphone-14-blue-128-gb/p/itmdb77f40da6b6d?pid=MOBGHWFHSV7GUFWA&lid=LSTMOBGHWFHSV7GUFWAIB1T9P&marketplace=FLIPKART&q=iphone+12&store=tyy%2F4io&srno=s_1_21&otracker=search&fm=organic&iid=505f7afe-05cc-423e-b48c-b3a38b59b2ca.MOBGHWFHSV7GUFWA.SEARCH&ppt=None&ppn=None&ssid=grhll52sls0000001685622535841&qH=7b7504afcaf2e1ea\n",
      "https://www.flipkart.com/apple-iphone-13-starlight-128-gb/p/itmc9604f122ae7f?pid=MOBG6VF5ADKHKXFX&lid=LSTMOBG6VF5ADKHKXFXQGX7PK&marketplace=FLIPKART&q=iphone+12&store=tyy%2F4io&spotlightTagId=BestsellerId_tyy%2F4io&srno=s_1_22&otracker=search&fm=organic&iid=505f7afe-05cc-423e-b48c-b3a38b59b2ca.MOBG6VF5ADKHKXFX.SEARCH&ppt=None&ppn=None&ssid=grhll52sls0000001685622535841&qH=7b7504afcaf2e1ea\n",
      "https://www.flipkart.com/apple-iphone-14-product-red-128-gb/p/itm1f78a4e1a1d76?pid=MOBGHWFHFBJVSW22&lid=LSTMOBGHWFHFBJVSW22H8TJ3V&marketplace=FLIPKART&q=iphone+12&store=tyy%2F4io&srno=s_1_23&otracker=search&fm=organic&iid=505f7afe-05cc-423e-b48c-b3a38b59b2ca.MOBGHWFHFBJVSW22.SEARCH&ppt=None&ppn=None&ssid=grhll52sls0000001685622535841&qH=7b7504afcaf2e1ea\n",
      "https://www.flipkart.com/apple-iphone-11-white-128-gb/p/itme32df47ea6742?pid=MOBFWQ6B7KKRXDDS&lid=LSTMOBFWQ6B7KKRXDDSULUZ0N&marketplace=FLIPKART&q=iphone+12&store=tyy%2F4io&spotlightTagId=FkPickId_tyy%2F4io&srno=s_1_24&otracker=search&fm=organic&iid=505f7afe-05cc-423e-b48c-b3a38b59b2ca.MOBFWQ6B7KKRXDDS.SEARCH&ppt=None&ppn=None&ssid=grhll52sls0000001685622535841&qH=7b7504afcaf2e1ea\n"
     ]
    },
    {
     "ename": "AttributeError",
     "evalue": "'NoneType' object has no attribute 'a'",
     "output_type": "error",
     "traceback": [
      "\u001b[0;31m---------------------------------------------------------------------------\u001b[0m",
      "\u001b[0;31mAttributeError\u001b[0m                            Traceback (most recent call last)",
      "Cell \u001b[0;32mIn[24], line 2\u001b[0m\n\u001b[1;32m      1\u001b[0m \u001b[38;5;28;01mfor\u001b[39;00m i \u001b[38;5;129;01min\u001b[39;00m bigbox:\n\u001b[0;32m----> 2\u001b[0m     \u001b[38;5;28mprint\u001b[39m(\u001b[38;5;124m\"\u001b[39m\u001b[38;5;124mhttps://www.flipkart.com\u001b[39m\u001b[38;5;124m\"\u001b[39m\u001b[38;5;241m+\u001b[39m\u001b[43mi\u001b[49m\u001b[38;5;241;43m.\u001b[39;49m\u001b[43mdiv\u001b[49m\u001b[38;5;241;43m.\u001b[39;49m\u001b[43mdiv\u001b[49m\u001b[38;5;241;43m.\u001b[39;49m\u001b[43mdiv\u001b[49m\u001b[38;5;241;43m.\u001b[39;49m\u001b[43ma\u001b[49m[\u001b[38;5;124m'\u001b[39m\u001b[38;5;124mhref\u001b[39m\u001b[38;5;124m'\u001b[39m])\n",
      "\u001b[0;31mAttributeError\u001b[0m: 'NoneType' object has no attribute 'a'"
     ]
    }
   ],
   "source": [
    "for i in bigbox:\n",
    "    print(\"https://www.flipkart.com\"+i.div.div.div.a['href'])"
   ]
  },
  {
   "cell_type": "code",
   "execution_count": 25,
   "id": "6a3c67f6-59a9-4142-a7a9-fb2ca222ddc8",
   "metadata": {},
   "outputs": [
    {
     "data": {
      "text/plain": [
       "'https://www.flipkart.com/apple-iphone-12-purple-64-gb/p/itmfca1e77621c65?pid=MOBG2EPZJUZEYZGK&lid=LSTMOBG2EPZJUZEYZGK3JC9XU&marketplace=FLIPKART&q=iphone+12&store=tyy%2F4io&srno=s_1_2&otracker=search&fm=organic&iid=505f7afe-05cc-423e-b48c-b3a38b59b2ca.MOBG2EPZJUZEYZGK.SEARCH&ppt=None&ppn=None&ssid=grhll52sls0000001685622535841&qH=7b7504afcaf2e1ea'"
      ]
     },
     "execution_count": 25,
     "metadata": {},
     "output_type": "execute_result"
    }
   ],
   "source": [
    "productlink"
   ]
  },
  {
   "cell_type": "code",
   "execution_count": 26,
   "id": "871c28f0-ec1d-4482-8c75-c883f692e310",
   "metadata": {},
   "outputs": [],
   "source": [
    "product_req = requests.get(productlink)"
   ]
  },
  {
   "cell_type": "code",
   "execution_count": 30,
   "id": "3af9b1ed-2134-47da-a49c-8b4e216f5054",
   "metadata": {},
   "outputs": [],
   "source": [
    "product_html = bs(product_req.text,'html.parser')"
   ]
  },
  {
   "cell_type": "code",
   "execution_count": 32,
   "id": "8ec7bc30-200f-4bdb-b20f-2bd0e8c2c8a0",
   "metadata": {},
   "outputs": [],
   "source": [
    "coment_box = product_html.find_all(\"div\",{\"class\":\"_16PBlm\"})"
   ]
  },
  {
   "cell_type": "code",
   "execution_count": 33,
   "id": "e21f6acb-c1c6-4d0f-9d13-774d81ad85ef",
   "metadata": {},
   "outputs": [
    {
     "data": {
      "text/plain": [
       "11"
      ]
     },
     "execution_count": 33,
     "metadata": {},
     "output_type": "execute_result"
    }
   ],
   "source": [
    "len(coment_box)"
   ]
  },
  {
   "cell_type": "code",
   "execution_count": 38,
   "id": "6ff2a47d-2b4d-47c4-b417-dca22740f118",
   "metadata": {},
   "outputs": [
    {
     "data": {
      "text/plain": [
       "'Flipkart Customer'"
      ]
     },
     "execution_count": 38,
     "metadata": {},
     "output_type": "execute_result"
    }
   ],
   "source": [
    "coment_box[0].div.div.find_all(\"p\" , {\"class\":\"_2sc7ZR _2V5EHH\"})[0].text"
   ]
  },
  {
   "cell_type": "code",
   "execution_count": 39,
   "id": "01fefbb1-d760-4b15-a2a4-7532a08ec6e7",
   "metadata": {},
   "outputs": [
    {
     "name": "stdout",
     "output_type": "stream",
     "text": [
      "the people who comented\n",
      "Flipkart Customer\n",
      "Anurag Lad\n",
      "Vishal Gandhi\n",
      "Athul Shabu\n",
      "Flipkart Customer\n",
      "Ishu Kumar\n",
      "Vijaya Kurkute\n",
      "Suddha Ram boro\n",
      "Ayaz Ahmad\n",
      "Indradav Sharma \n"
     ]
    },
    {
     "ename": "AttributeError",
     "evalue": "'NoneType' object has no attribute 'div'",
     "output_type": "error",
     "traceback": [
      "\u001b[0;31m---------------------------------------------------------------------------\u001b[0m",
      "\u001b[0;31mAttributeError\u001b[0m                            Traceback (most recent call last)",
      "Cell \u001b[0;32mIn[39], line 3\u001b[0m\n\u001b[1;32m      1\u001b[0m \u001b[38;5;28mprint\u001b[39m(\u001b[38;5;124m\"\u001b[39m\u001b[38;5;124mthe people who comented\u001b[39m\u001b[38;5;124m\"\u001b[39m)\n\u001b[1;32m      2\u001b[0m \u001b[38;5;28;01mfor\u001b[39;00m i \u001b[38;5;129;01min\u001b[39;00m coment_box:\n\u001b[0;32m----> 3\u001b[0m     \u001b[38;5;28mprint\u001b[39m(\u001b[43mi\u001b[49m\u001b[38;5;241;43m.\u001b[39;49m\u001b[43mdiv\u001b[49m\u001b[38;5;241;43m.\u001b[39;49m\u001b[43mdiv\u001b[49m\u001b[38;5;241m.\u001b[39mfind_all(\u001b[38;5;124m\"\u001b[39m\u001b[38;5;124mp\u001b[39m\u001b[38;5;124m\"\u001b[39m , {\u001b[38;5;124m\"\u001b[39m\u001b[38;5;124mclass\u001b[39m\u001b[38;5;124m\"\u001b[39m:\u001b[38;5;124m\"\u001b[39m\u001b[38;5;124m_2sc7ZR _2V5EHH\u001b[39m\u001b[38;5;124m\"\u001b[39m})[\u001b[38;5;241m0\u001b[39m]\u001b[38;5;241m.\u001b[39mtext)\n",
      "\u001b[0;31mAttributeError\u001b[0m: 'NoneType' object has no attribute 'div'"
     ]
    }
   ],
   "source": [
    "print(\"the people who comented\")\n",
    "for i in coment_box:\n",
    "    print(i.div.div.find_all(\"p\" , {\"class\":\"_2sc7ZR _2V5EHH\"})[0].text)"
   ]
  },
  {
   "cell_type": "code",
   "execution_count": 41,
   "id": "4964558c-c00a-43b2-8323-65c5444ad3a7",
   "metadata": {},
   "outputs": [
    {
     "data": {
      "text/plain": [
       "'5'"
      ]
     },
     "execution_count": 41,
     "metadata": {},
     "output_type": "execute_result"
    }
   ],
   "source": [
    "#rating\n",
    "coment_box[0].div.div.div.div.text"
   ]
  },
  {
   "cell_type": "code",
   "execution_count": 42,
   "id": "5701c9a6-dc92-4ae1-8294-3726ebe075e1",
   "metadata": {},
   "outputs": [
    {
     "name": "stdout",
     "output_type": "stream",
     "text": [
      "all the given ratings\n",
      "5\n",
      "5\n",
      "5\n",
      "5\n",
      "5\n",
      "5\n",
      "5\n",
      "5\n",
      "5\n",
      "5\n"
     ]
    },
    {
     "ename": "AttributeError",
     "evalue": "'NoneType' object has no attribute 'div'",
     "output_type": "error",
     "traceback": [
      "\u001b[0;31m---------------------------------------------------------------------------\u001b[0m",
      "\u001b[0;31mAttributeError\u001b[0m                            Traceback (most recent call last)",
      "Cell \u001b[0;32mIn[42], line 4\u001b[0m\n\u001b[1;32m      2\u001b[0m \u001b[38;5;28mprint\u001b[39m(\u001b[38;5;124m\"\u001b[39m\u001b[38;5;124mall the given ratings\u001b[39m\u001b[38;5;124m\"\u001b[39m)\n\u001b[1;32m      3\u001b[0m \u001b[38;5;28;01mfor\u001b[39;00m i \u001b[38;5;129;01min\u001b[39;00m coment_box:\n\u001b[0;32m----> 4\u001b[0m     \u001b[38;5;28mprint\u001b[39m(\u001b[43mi\u001b[49m\u001b[38;5;241;43m.\u001b[39;49m\u001b[43mdiv\u001b[49m\u001b[38;5;241;43m.\u001b[39;49m\u001b[43mdiv\u001b[49m\u001b[38;5;241m.\u001b[39mdiv\u001b[38;5;241m.\u001b[39mdiv\u001b[38;5;241m.\u001b[39mtext)\n",
      "\u001b[0;31mAttributeError\u001b[0m: 'NoneType' object has no attribute 'div'"
     ]
    }
   ],
   "source": [
    "#rating of all those who has commented in the frist page\n",
    "print(\"all the given ratings\")\n",
    "for i in coment_box:\n",
    "    print(i.div.div.div.div.text)"
   ]
  },
  {
   "cell_type": "code",
   "execution_count": 49,
   "id": "77b64e4f-ea6b-43eb-912c-fc8887b827fd",
   "metadata": {},
   "outputs": [
    {
     "data": {
      "text/plain": [
       "'Terrific'"
      ]
     },
     "execution_count": 49,
     "metadata": {},
     "output_type": "execute_result"
    }
   ],
   "source": [
    "#the statement related to the rating\n",
    "coment_box[0].div.div.div.p.text"
   ]
  },
  {
   "cell_type": "code",
   "execution_count": 50,
   "id": "6438fad1-ec9d-44db-842c-b583bbd70998",
   "metadata": {},
   "outputs": [
    {
     "name": "stdout",
     "output_type": "stream",
     "text": [
      "Terrific\n",
      "Perfect product!\n",
      "Terrific purchase\n",
      "Must buy!\n",
      "Awesome\n",
      "Mind-blowing purchase\n",
      "Highly recommended\n",
      "Awesome\n",
      "Brilliant\n",
      "Must buy!\n"
     ]
    },
    {
     "ename": "AttributeError",
     "evalue": "'NoneType' object has no attribute 'div'",
     "output_type": "error",
     "traceback": [
      "\u001b[0;31m---------------------------------------------------------------------------\u001b[0m",
      "\u001b[0;31mAttributeError\u001b[0m                            Traceback (most recent call last)",
      "Cell \u001b[0;32mIn[50], line 3\u001b[0m\n\u001b[1;32m      1\u001b[0m \u001b[38;5;66;03m#the statement related to the rating by all 11 persons\u001b[39;00m\n\u001b[1;32m      2\u001b[0m \u001b[38;5;28;01mfor\u001b[39;00m i \u001b[38;5;129;01min\u001b[39;00m coment_box:\n\u001b[0;32m----> 3\u001b[0m \t\u001b[38;5;28mprint\u001b[39m(\u001b[43mi\u001b[49m\u001b[38;5;241;43m.\u001b[39;49m\u001b[43mdiv\u001b[49m\u001b[38;5;241;43m.\u001b[39;49m\u001b[43mdiv\u001b[49m\u001b[38;5;241m.\u001b[39mdiv\u001b[38;5;241m.\u001b[39mp\u001b[38;5;241m.\u001b[39mtext)\n",
      "\u001b[0;31mAttributeError\u001b[0m: 'NoneType' object has no attribute 'div'"
     ]
    }
   ],
   "source": [
    "#the statement related to the rating by all 11 persons\n",
    "for i in coment_box:\n",
    "\tprint(i.div.div.div.p.text)"
   ]
  },
  {
   "cell_type": "code",
   "execution_count": 66,
   "id": "de26abfe-a759-4b70-b53d-e389a3042fc8",
   "metadata": {},
   "outputs": [
    {
     "data": {
      "text/plain": [
       "'Wow superb camera phone Very smooth speed and no lag , iphone is the king always Its a beautiful product'"
      ]
     },
     "execution_count": 66,
     "metadata": {},
     "output_type": "execute_result"
    }
   ],
   "source": [
    "#product review\n",
    "coment_box[0].div.div.find_all(\"div\" , {\"class\":\"\"})[0].div.text"
   ]
  },
  {
   "cell_type": "code",
   "execution_count": 69,
   "id": "4d993164-c49d-4dbe-b3ff-23c8e5f6d6e8",
   "metadata": {},
   "outputs": [
    {
     "name": "stdout",
     "output_type": "stream",
     "text": [
      "product review for all the 11 persons\n",
      "Wow superb camera phone Very smooth speed and no lag , iphone is the king always Its a beautiful product\n",
      "The brand is very trustworthy and i got genuine pice at a very low cost.I ordered the green one and trust me the colour was amazing.All the colours but specifically green and purple are nice for look.Thanks to flipkart❤️\n",
      "Awesome phone … value for money.. Happy with battery life.. Awesome camera features… look at the images snapped using the phone… easy to use.. Just feared about getting scratch at back glass… but using cover helped it…\n",
      "Top class performance  and battery backup too. Charges quickly if u are using a 20w charger. Night mode is good , HDR mode works flawlessly. VFM phone.\n",
      "Excellent product worth for every penny, writing this review after using 7 days, earlier was using iPhone 6Plus now on iPhone 12 😍, faster then anything this else.Excellent Picture quality.Just loved it.!!\n",
      "Guys ,this is just Beast at Every Aspect of Configurations, Full Pack with What You want, Like Best Camera , Best Display, Best Battery for whole Day Use, And Everyone know About Processing Speed👌..\n",
      "Thanx flipkart for value super sale for short time period of 1hour😁, flipkart might need to work on faster deliveryIphone 12 which i got in best price on flipkart1. Camera performance - superb2. Display - superb3. Interface - Amazing\n",
      "Thanks flipkart i trust you got my device perfectly loved it best phone in it's segment\n",
      "Almost 1month of purshase and i am loving it . Great for photography and videography and trust me the stability of video is awesome . High end performence in Gaming , the only problem is that it heats up a little while playing Bgmi but if u play in a AC room then there's no issue .The boxy look of iphone 12 is very good and it gives a premium feel while holding . worth buying . also if you are confused between iph 11 or iph12 then close your eyes and go for iphone 12 .\n",
      "I really m glad that i went for i phone in place of all other android devices like the Samsung S series nd one plus . Also , m amazed by the battery life in this i phone . Single charge and its last for a day easily ..Even the gaming experience was great\n"
     ]
    },
    {
     "ename": "AttributeError",
     "evalue": "'NoneType' object has no attribute 'div'",
     "output_type": "error",
     "traceback": [
      "\u001b[0;31m---------------------------------------------------------------------------\u001b[0m",
      "\u001b[0;31mAttributeError\u001b[0m                            Traceback (most recent call last)",
      "Cell \u001b[0;32mIn[69], line 4\u001b[0m\n\u001b[1;32m      2\u001b[0m \u001b[38;5;28mprint\u001b[39m(\u001b[38;5;124m\"\u001b[39m\u001b[38;5;124mproduct review for all the 11 persons\u001b[39m\u001b[38;5;124m\"\u001b[39m)\n\u001b[1;32m      3\u001b[0m \u001b[38;5;28;01mfor\u001b[39;00m i \u001b[38;5;129;01min\u001b[39;00m coment_box:\n\u001b[0;32m----> 4\u001b[0m     \u001b[38;5;28mprint\u001b[39m(\u001b[43mi\u001b[49m\u001b[38;5;241;43m.\u001b[39;49m\u001b[43mdiv\u001b[49m\u001b[38;5;241;43m.\u001b[39;49m\u001b[43mdiv\u001b[49m\u001b[38;5;241m.\u001b[39mfind_all(\u001b[38;5;124m\"\u001b[39m\u001b[38;5;124mdiv\u001b[39m\u001b[38;5;124m\"\u001b[39m , {\u001b[38;5;124m\"\u001b[39m\u001b[38;5;124mclass\u001b[39m\u001b[38;5;124m\"\u001b[39m:\u001b[38;5;124m\"\u001b[39m\u001b[38;5;124m\"\u001b[39m})[\u001b[38;5;241m0\u001b[39m]\u001b[38;5;241m.\u001b[39mdiv\u001b[38;5;241m.\u001b[39mtext)\n",
      "\u001b[0;31mAttributeError\u001b[0m: 'NoneType' object has no attribute 'div'"
     ]
    }
   ],
   "source": [
    "#product review for all the 11 persons\n",
    "print(\"product review for all the 11 persons\")\n",
    "for i in coment_box:\n",
    "    print(i.div.div.find_all(\"div\" , {\"class\":\"\"})[0].div.text)"
   ]
  },
  {
   "cell_type": "code",
   "execution_count": null,
   "id": "8f3cdc63-94b6-4c01-9384-5616f292b637",
   "metadata": {},
   "outputs": [],
   "source": []
  }
 ],
 "metadata": {
  "kernelspec": {
   "display_name": "Python 3 (ipykernel)",
   "language": "python",
   "name": "python3"
  },
  "language_info": {
   "codemirror_mode": {
    "name": "ipython",
    "version": 3
   },
   "file_extension": ".py",
   "mimetype": "text/x-python",
   "name": "python",
   "nbconvert_exporter": "python",
   "pygments_lexer": "ipython3",
   "version": "3.10.8"
  }
 },
 "nbformat": 4,
 "nbformat_minor": 5
}
